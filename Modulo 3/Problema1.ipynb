{
 "cells": [
  {
   "cell_type": "markdown",
   "metadata": {},
   "source": [
    "# Credit"
   ]
  },
  {
   "cell_type": "markdown",
   "metadata": {},
   "source": [
    "Implemente un programa que determine si un número de tarjeta de crédito proporcionado es válido según el algoritmo de Luhn."
   ]
  },
  {
   "cell_type": "markdown",
   "metadata": {},
   "source": [
    "<code>$ python credit.py\n",
    "Number: 378282246310005\n",
    "AMEX</code>"
   ]
  },
  {
   "cell_type": "markdown",
   "metadata": {},
   "source": [
    "Una tarjeta de crédito (o débito), por supuesto, es una tarjeta de plástico con la que puede pagar bienes y servicios. Impreso en esa tarjeta hay un número que también está almacenado en una base de datos en algún lugar, de modo que cuando su tarjeta se usa para comprar algo, el acreedor sabe a quién facturar. Hay muchas personas con tarjetas de crédito en este mundo, por lo que esos números son bastante largos: American Express usa números de 15 dígitos, MasterCard usa números de 16 dígitos y Visa usa números de 13 y 16 dígitos. Y esos dígitos son números decimales (0 a 9), no binarios, lo que significa, por ejemplo, que American Express podría imprimir hasta 10 ^ 15 = 1,000,000,000,000,000 tarjetas únicas. (Eso es, um, un billón).\n",
    "\n",
    "En realidad, eso es un poco exagerado, porque los números de las tarjetas de crédito en realidad tienen cierta estructura. Todos los números de American Express comienzan con 34 o 37; la mayoría de los números de MasterCard comienzan con 51, 52, 53, 54 o 55; y todos los números de Visa comienzan con 4. Pero los números de tarjetas de crédito también tienen una \"suma de verificación\" incorporada, una relación matemática entre al menos un número y otros. Esa suma de comprobación permite a las computadoras (o humanos a los que les gustan las matemáticas) detectar errores tipográficos (por ejemplo, transposiciones), si no números fraudulentos, sin tener que consultar una base de datos, lo que puede ser lento. Por supuesto, un matemático deshonesto podría sin duda crear un número falso que, sin embargo, respete la restricción matemática, por lo que una búsqueda en la base de datos aún es necesaria para verificaciones más rigurosas."
   ]
  },
  {
   "cell_type": "markdown",
   "metadata": {},
   "source": [
    "## Especificaciones"
   ]
  },
  {
   "cell_type": "markdown",
   "metadata": {},
   "source": [
    "- En <code>credit.py</code> escribir un programa que solicita al usuario un número de tarjeta de crédito y luego informes (a través de <code>print</code>) si se trata de una válida American Express, MasterCard, o número de tarjeta Visa.\n",
    "- Para que podamos automatizar algunas pruebas de su código, le pedimos que la última línea de salida de su programa sea <code>AMEX\\n</code>o <code>MASTERCARD\\n</code> o <code>VISA\\n</code> o <code>INVALID\\n</code> , nada más, nada menos.\n",
    "- Para simplificar, puede suponer que la entrada del usuario será completamente numérica (es decir, sin guiones, como podría estar impreso en una tarjeta real)."
   ]
  },
  {
   "cell_type": "markdown",
   "metadata": {},
   "source": [
    "## Uso"
   ]
  },
  {
   "cell_type": "markdown",
   "metadata": {},
   "source": [
    "Su programa debería comportarse según el ejemplo siguiente."
   ]
  },
  {
   "cell_type": "markdown",
   "metadata": {},
   "source": [
    "<code>$ python credit.py\n",
    "Number: 378282246310005\n",
    "AMEX</code>"
   ]
  },
  {
   "cell_type": "markdown",
   "metadata": {},
   "source": [
    "## Algoritmo de Luhn"
   ]
  },
  {
   "cell_type": "markdown",
   "metadata": {},
   "source": [
    "Entonces, ¿cuál es la fórmula secreta? Bueno, la mayoría de las tarjetas utilizan un algoritmo inventado por Hans Peter Luhn de IBM. De acuerdo con el algoritmo de Luhn, puede determinar si un número de tarjeta de crédito es (sintácticamente) válido de la siguiente manera:\n",
    "\n",
    "1. Multiplica cada dos dígitos por 2, comenzando con el penúltimo dígito del número y luego suma los dígitos de esos productos.\n",
    "2. Suma la suma a la suma de los dígitos que no se multiplicaron por 2.\n",
    "3. Si el último dígito del total es 0 (o, dicho de manera más formal, si el módulo total 10 es congruente con 0), ¡el número es válido!\n",
    "\n",
    "Eso es un poco confuso, así que probemos un ejemplo con la visa de David: 4003600000000014.\n",
    "\n",
    "1. Por el bien de la discusión, primero subrayemos cada dos dígitos, comenzando con el penúltimo dígito del número:\n",
    "\n",
    "    **4** 0 **0** 3 **6** 0 **0** 0 **0** 0 **0** 0 **0** 0 **1** 4\n",
    "\n",
    "    Bien, multipliquemos cada uno de los dígitos subrayados por 2:\n",
    "\n",
    "    1 • 2 + 0 • 2 + 0 • 2 + 0 • 2 + 0 • 2 + 6 • 2 + 0 • 2 + 4 • 2\n",
    "\n",
    "    Eso nos da:\n",
    "\n",
    "    2 + 0 + 0 + 0 + 0 + 12 + 0 + 8\n",
    "\n",
    "2. Ahora agreguemos los dígitos de esos productos (es decir, no los productos en sí) juntos:\n",
    "\n",
    "    2 + 0 + 0 + 0 + 0 + 1 + 2 + 0 + 8 = 13\n",
    "\n",
    "    Ahora agreguemos esa suma (13) a la suma de los dígitos que no fueron multiplicados por 2 (comenzando desde el final):\n",
    "\n",
    "    13 + 4 + 0 + 0 + 0 + 0 + 0 + 3 + 0 = 20\n",
    "\n",
    "3. Sí, el último dígito de esa suma (20) es un 0, ¡así que la tarjeta de David es legítima!\n",
    "\n",
    "Por lo tanto, validar los números de tarjetas de crédito no es difícil, pero se vuelve un poco tedioso a mano. Escribamos un programa."
   ]
  },
  {
   "cell_type": "markdown",
   "metadata": {},
   "source": [
    "## Pruebas"
   ]
  },
  {
   "cell_type": "markdown",
   "metadata": {},
   "source": [
    "- Ejecute su programa como python <code>credit.py</code>y espere a que se le solicite la entrada. Escribe <code>378282246310005</code> y presiona enter. Su programa debería generar <code>AMEX</code>.\n",
    "- Ejecute su programa como python <code>credit.py</code> y espere a que se le solicite la entrada. Escribe <code>371449635398431</code> y presiona enter. Su programa debería generar <code>AMEX</code>.\n",
    "- Ejecute su programa como python <code>credit.py</code> y espere a que se le solicite la entrada. Escribe <code>5555555555554444</code> y presiona enter. Su programa debería generar <code>MASTERCARD</code>.\n",
    "- Ejecute su programa como python <code>credit.py</code> y espere a que se le solicite la entrada. Escribe <code>5105105105105100</code> y presiona enter. Su programa debería generar <code>MASTERCARD</code>.\n",
    "- Ejecute su programa como python <code>credit.py</code> y espere a que se le solicite la entrada. Escribe <code>4111111111111111</code> y presiona enter. Su programa debería generar <code>VISA</code>.\n",
    "- Ejecute su programa como python <code>credit.py</code> y espere a que se le solicite la entrada. Escribe <code>4012888888881881</code> y presiona enter. Su programa debería generar <code>VISA</code>.\n",
    "- Ejecute su programa como python <code>credit.py</code> y espere a que se le solicite la entrada. Escribe <code>1234567890</code> y presiona enter. Su programa debería generar <code>INVALID</code> ."
   ]
  },
  {
   "cell_type": "markdown",
   "metadata": {},
   "source": [
    "Aqui más códigos de tarjetas de paypal para validar <a href='https://developer.paypal.com/docs/payflow/payflow-pro/payflow-pro-testing/#credit-card-numbers-for-testing'>link</a>"
   ]
  },
  {
   "cell_type": "code",
   "execution_count": 1,
   "metadata": {},
   "outputs": [],
   "source": [
    "#Definiendo clase\n",
    "class Tarjeta:\n",
    "    def __init__(self, numtarjeta):\n",
    "        self.numtarjeta = numtarjeta\n",
    "\n",
    "    # Función booleana que realiza el Algoritmo Luhn para verificar si la tarjeta cumple o no con este\n",
    "    def Luhn(self):\n",
    "            pos1 = len(self.numtarjeta) - 2\n",
    "            pos2 = len(self.numtarjeta) - 1\n",
    "            suma1 = 0\n",
    "            suma2 = 0\n",
    "    \n",
    "            while (pos1 + pos2) >= -1:\n",
    "                i = int(self.numtarjeta[pos1])\n",
    "                j = int(self.numtarjeta[pos2])\n",
    "\n",
    "                if pos1 != -1:    \n",
    "                    if i*2 >= 10:\n",
    "                        suma1 = suma1 + int(i*2/10) + (i*2)%10\n",
    "                    else:\n",
    "                        suma1 = suma1 + i*2\n",
    "                \n",
    "                suma2 = suma2 + j\n",
    "    \n",
    "                pos1 = pos1 - 2\n",
    "                pos2 = pos2 - 2\n",
    "            \n",
    "            if (suma1 + suma2)%10 == 0:\n",
    "                return True\n",
    "            else:\n",
    "                return False\n",
    "    \n",
    "    # Se valida la tarjeta según la longitud de la misma y si cumple con el algoritmo Luhn\n",
    "    def validar(self):\n",
    "        if (len(self.numtarjeta) == 15 or len(self.numtarjeta) == 16 or len(self.numtarjeta) == 13) and self.Luhn():\n",
    "            return True\n",
    "        else:\n",
    "            return False\n",
    "\n",
    "    # Usando las función de validación y de acuerdo a las características de algunos dígitos de la tarjeta, se categoriza su tipo\n",
    "    def tipo(self):\n",
    "        if self.validar():\n",
    "            if len(self.numtarjeta) == 15 and (self.numtarjeta[0:2] == '34' or self.numtarjeta[0:2] == '37'):\n",
    "                print(\"AMEX\\n\")\n",
    "            elif len(self.numtarjeta) == 16  and (self.numtarjeta[0:2] == '51' or self.numtarjeta[0:2] == '52' or self.numtarjeta[0:2] == '53' or self.numtarjeta[0:2] == '54' or self.numtarjeta[0:2] == '55'):\n",
    "                print(\"MASTERCARD\\n\")\n",
    "            elif (len(self.numtarjeta) == 13 or len(self.numtarjeta) == 16) and self.numtarjeta[0] == '4':\n",
    "                print(\"VISA\\n\")\n",
    "            else:\n",
    "                print(\"INVALID\\n\")\n",
    "        else:\n",
    "            print(\"INVALID\\n\")"
   ]
  },
  {
   "cell_type": "code",
   "execution_count": 2,
   "metadata": {},
   "outputs": [],
   "source": [
    "#Programa principal\n",
    "if __name__ == '__main__':\n",
    "    #Se define la función pedir tarjeta\n",
    "    def pedirtarjeta():\n",
    "        while True:\n",
    "            numtarjeta = input(\"Introduce tu número de tarjeta: \")\n",
    "            for digito in numtarjeta:\n",
    "                #Para validar que todos los digitos de la tarjeta sean números, se hace la siguiente validación\n",
    "                try:\n",
    "                    n = int(digito)\n",
    "                    valido = True\n",
    "                except:\n",
    "                    valido = False\n",
    "                    print(\"El número de tarjeta solo puede contener números\")\n",
    "                    break\n",
    "            #Si la tarjeta solo contiene números, se hace un break en el while\n",
    "            if valido:\n",
    "                break\n",
    "\n",
    "        #Se crea un objeto de la clase Tarjeta con el parámetro numtarjeta\n",
    "        tarjeta = Tarjeta(numtarjeta)\n",
    "    \n",
    "        #Se utiliza el método tipo para imprimir los resultados requeridos\n",
    "        tarjeta.tipo()"
   ]
  },
  {
   "cell_type": "code",
   "execution_count": 5,
   "metadata": {},
   "outputs": [
    {
     "name": "stdin",
     "output_type": "stream",
     "text": [
      "Introduce tu número de tarjeta:  378282246310005\n"
     ]
    },
    {
     "name": "stdout",
     "output_type": "stream",
     "text": [
      "AMEX\n",
      "\n"
     ]
    }
   ],
   "source": [
    "pedirtarjeta()"
   ]
  },
  {
   "cell_type": "code",
   "execution_count": 7,
   "metadata": {},
   "outputs": [
    {
     "name": "stdin",
     "output_type": "stream",
     "text": [
      "Introduce tu número de tarjeta:  371449635398431\n"
     ]
    },
    {
     "name": "stdout",
     "output_type": "stream",
     "text": [
      "AMEX\n",
      "\n"
     ]
    }
   ],
   "source": [
    "pedirtarjeta()"
   ]
  },
  {
   "cell_type": "code",
   "execution_count": 8,
   "metadata": {},
   "outputs": [
    {
     "name": "stdin",
     "output_type": "stream",
     "text": [
      "Introduce tu número de tarjeta:  5555555555554444\n"
     ]
    },
    {
     "name": "stdout",
     "output_type": "stream",
     "text": [
      "MASTERCARD\n",
      "\n"
     ]
    }
   ],
   "source": [
    "pedirtarjeta()"
   ]
  },
  {
   "cell_type": "code",
   "execution_count": 9,
   "metadata": {},
   "outputs": [
    {
     "name": "stdin",
     "output_type": "stream",
     "text": [
      "Introduce tu número de tarjeta:  5105105105105100\n"
     ]
    },
    {
     "name": "stdout",
     "output_type": "stream",
     "text": [
      "MASTERCARD\n",
      "\n"
     ]
    }
   ],
   "source": [
    "pedirtarjeta()"
   ]
  },
  {
   "cell_type": "code",
   "execution_count": 10,
   "metadata": {},
   "outputs": [
    {
     "name": "stdin",
     "output_type": "stream",
     "text": [
      "Introduce tu número de tarjeta:  4111111111111111\n"
     ]
    },
    {
     "name": "stdout",
     "output_type": "stream",
     "text": [
      "VISA\n",
      "\n"
     ]
    }
   ],
   "source": [
    "pedirtarjeta()"
   ]
  },
  {
   "cell_type": "code",
   "execution_count": 11,
   "metadata": {},
   "outputs": [
    {
     "name": "stdin",
     "output_type": "stream",
     "text": [
      "Introduce tu número de tarjeta:  4012888888881881\n"
     ]
    },
    {
     "name": "stdout",
     "output_type": "stream",
     "text": [
      "VISA\n",
      "\n"
     ]
    }
   ],
   "source": [
    "pedirtarjeta()"
   ]
  },
  {
   "cell_type": "code",
   "execution_count": 13,
   "metadata": {},
   "outputs": [
    {
     "name": "stdin",
     "output_type": "stream",
     "text": [
      "Introduce tu número de tarjeta:  1234567890\n"
     ]
    },
    {
     "name": "stdout",
     "output_type": "stream",
     "text": [
      "INVALID\n",
      "\n"
     ]
    }
   ],
   "source": [
    "pedirtarjeta()"
   ]
  },
  {
   "cell_type": "code",
   "execution_count": null,
   "metadata": {},
   "outputs": [],
   "source": []
  }
 ],
 "metadata": {
  "kernelspec": {
   "display_name": "Python 3",
   "language": "python",
   "name": "python3"
  },
  "language_info": {
   "codemirror_mode": {
    "name": "ipython",
    "version": 3
   },
   "file_extension": ".py",
   "mimetype": "text/x-python",
   "name": "python",
   "nbconvert_exporter": "python",
   "pygments_lexer": "ipython3",
   "version": "3.8.5"
  }
 },
 "nbformat": 4,
 "nbformat_minor": 4
}
