{
 "cells": [
  {
   "cell_type": "markdown",
   "metadata": {},
   "source": [
    "# PROBLEMAS DIVERSOS"
   ]
  },
  {
   "cell_type": "markdown",
   "metadata": {},
   "source": [
    "<h3>1.</h3>\n",
    "Realizar una función que permita la carga de n alumnos. Por cada alumno se deberá preguntar el nombre completo y permitir el ingreso de 3 notas. Las notas deben estar comprendidas entre 0 y 10. Devolver el listado de alumnos."
   ]
  },
  {
   "cell_type": "code",
   "execution_count": 34,
   "metadata": {},
   "outputs": [
    {
     "name": "stdin",
     "output_type": "stream",
     "text": [
      "Cantidad de alumnos:  4\n",
      "Ingrese el nombre completo del Alumno 1:  Juan\n",
      "Ingresa la nota 1:  4\n",
      "Ingresa la nota 2:  5\n",
      "Ingresa la nota 3:  5\n",
      "Ingrese el nombre completo del Alumno 2:  Jean\n",
      "Ingresa la nota 1:  4\n",
      "Ingresa la nota 2:  2\n",
      "Ingresa la nota 3:  3\n",
      "Ingrese el nombre completo del Alumno 3:  Junior\n",
      "Ingresa la nota 1:  4\n",
      "Ingresa la nota 2:  5\n",
      "Ingresa la nota 3:  8\n",
      "Ingrese el nombre completo del Alumno 4:  Pedro\n",
      "Ingresa la nota 1:  5\n",
      "Ingresa la nota 2:  4\n",
      "Ingresa la nota 3:  3\n"
     ]
    },
    {
     "data": {
      "text/plain": [
       "[{'Nombre': 'Juan', 'Nota 1': 4.0, 'Nota 2': 5.0, 'Nota 3': 5.0},\n",
       " {'Nombre': 'Jean', 'Nota 1': 4.0, 'Nota 2': 2.0, 'Nota 3': 3.0},\n",
       " {'Nombre': 'Junior', 'Nota 1': 4.0, 'Nota 2': 5.0, 'Nota 3': 8.0},\n",
       " {'Nombre': 'Pedro', 'Nota 1': 5.0, 'Nota 2': 4.0, 'Nota 3': 3.0}]"
      ]
     },
     "execution_count": 34,
     "metadata": {},
     "output_type": "execute_result"
    }
   ],
   "source": [
    "lista_alumnos = []\n",
    "\n",
    "def alumnos(lista_alumnos, cantidad):\n",
    "    for i in range(cantidad):\n",
    "        n = 0\n",
    "        alumno = {}\n",
    "        nombre = input(f\"Ingrese el nombre completo del Alumno {len(lista_alumnos) + 1}: \")\n",
    "        \n",
    "        alumno['Nombre'] = nombre\n",
    "        \n",
    "        while n < 3:\n",
    "            try:\n",
    "                nota = float(input(f\"Ingresa la nota {n + 1}: \"))\n",
    "                if nota >= 0 and nota <= 10:\n",
    "                    alumno[f'Nota {n+1}'] = nota\n",
    "                    n = n+1\n",
    "                else:\n",
    "                    print(\"¡ERROR¡ La nota debe estar comprendida entre 0 y 10\")\n",
    "            except:\n",
    "                print(\"Ingrese una nota valida.\")\n",
    "        lista_alumnos.append(alumno)\n",
    "\n",
    "while True:\n",
    "    try:\n",
    "        cantidad = int(input(\"Cantidad de alumnos: \"))\n",
    "        if cantidad <= 0:\n",
    "            print(\"¡ERROR¡ Se debe ingresar una cantidad de alumnos mayor a 0\")\n",
    "        else:\n",
    "            break\n",
    "    except:\n",
    "        print(\"¡ERROR¡ Por favor ingrese un valor de cantidad válido: \")\n",
    "\n",
    "alumnos(lista_alumnos, cantidad)\n",
    "\n",
    "lista_alumnos"
   ]
  },
  {
   "cell_type": "markdown",
   "metadata": {},
   "source": [
    "### 2.\n",
    "Definir una función que dado un listado de alumnos evalúe cuántos aprobaron y cuántos desaprobaron, teniendo en cuenta que se aprueba con 4. La nota será el promedio de las 3 notas para cada alumno."
   ]
  },
  {
   "cell_type": "code",
   "execution_count": 35,
   "metadata": {},
   "outputs": [
    {
     "name": "stdout",
     "output_type": "stream",
     "text": [
      "La cantidad de alumnos aprobados es de: 3\n",
      "La cantidad de alumnos desaprobados es de: 1\n"
     ]
    }
   ],
   "source": [
    "def promedio (lista_alumnos):\n",
    "    for alumno in lista_alumnos:\n",
    "        promedio = (alumno['Nota 1'] + alumno['Nota 2'] + alumno['Nota 3']) / 3\n",
    "        alumno['promedio'] = promedio\n",
    "\n",
    "def evaluar(lista_alumnos):\n",
    "    aprobados = 0\n",
    "    desaprobados = 0\n",
    "    \n",
    "    promedio(lista_alumnos)\n",
    "\n",
    "    for alumno in lista_alumnos:\n",
    "        if alumno['promedio'] >= 4:\n",
    "            alumno['estado'] = 'Aprobado'\n",
    "            aprobados += 1\n",
    "        else:\n",
    "            alumno['estado'] = 'Desaprobado'\n",
    "            desaprobados += 1\n",
    "\n",
    "    print(f'La cantidad de alumnos aprobados es de: {aprobados}')\n",
    "    print(f'La cantidad de alumnos desaprobados es de: {desaprobados}')\n",
    "\n",
    "evaluar(lista_alumnos)"
   ]
  },
  {
   "cell_type": "markdown",
   "metadata": {},
   "source": [
    "### 3.\n",
    "Informar el promedio de nota del curso total."
   ]
  },
  {
   "cell_type": "code",
   "execution_count": 36,
   "metadata": {},
   "outputs": [
    {
     "name": "stdout",
     "output_type": "stream",
     "text": [
      "El promedio de nota del curso total es: 4.333333333333334\n"
     ]
    }
   ],
   "source": [
    "def promedio_curso(lista_alumnos):\n",
    "    promedio = 0\n",
    "\n",
    "    for alumno in lista_alumnos:\n",
    "        promedio += alumno['promedio']\n",
    "\n",
    "    return promedio / len(lista_alumnos)\n",
    "\n",
    "print(f\"El promedio de nota del curso total es: {promedio_curso(lista_alumnos)}\")"
   ]
  },
  {
   "cell_type": "code",
   "execution_count": null,
   "metadata": {},
   "outputs": [],
   "source": []
  },
  {
   "cell_type": "markdown",
   "metadata": {},
   "source": [
    "### 4.\n",
    "Realizar una función que indique quién tuvo el promedio más alto y quién tuvo la nota promedio más baja."
   ]
  },
  {
   "cell_type": "code",
   "execution_count": 37,
   "metadata": {},
   "outputs": [
    {
     "name": "stdout",
     "output_type": "stream",
     "text": [
      "El alumno con el promedio más alto es: Junior\n",
      "El alumno con el promedio más bajo es: Jean\n"
     ]
    }
   ],
   "source": [
    "def puesto_promedio(lista_alumnos):\n",
    "    palto = 0\n",
    "    pbajo = 10\n",
    "    \n",
    "    for alumno in lista_alumnos:\n",
    "        nombre = alumno['Nombre']\n",
    "        if alumno['promedio'] >= palto:\n",
    "            alumno_alto = alumno['Nombre']\n",
    "            palto = alumno['promedio']\n",
    "        if alumno['promedio'] <= pbajo:\n",
    "            alumno_bajo = alumno['Nombre']\n",
    "            pbajo = alumno['promedio']\n",
    "    \n",
    "    print(f\"El alumno con el promedio más alto es: {alumno_alto}\")\n",
    "    \n",
    "    print(f\"El alumno con el promedio más bajo es: {alumno_bajo}\")\n",
    "\n",
    "puesto_promedio(lista_alumnos)"
   ]
  },
  {
   "cell_type": "code",
   "execution_count": null,
   "metadata": {},
   "outputs": [],
   "source": []
  },
  {
   "cell_type": "code",
   "execution_count": null,
   "metadata": {},
   "outputs": [],
   "source": []
  },
  {
   "cell_type": "markdown",
   "metadata": {},
   "source": [
    "### 5.\n",
    "Realizar una función que permita buscar un alumno por nombre, siendo el nombre completo o parcial, y devuelva una lista con los n alumnos que concuerden con ese nombre junto con todos sus datos, incluido el promedio de sus notas."
   ]
  },
  {
   "cell_type": "code",
   "execution_count": 38,
   "metadata": {},
   "outputs": [
    {
     "name": "stdin",
     "output_type": "stream",
     "text": [
      "Ingrese el nombre del o los alumnos a buscar:  Juan\n"
     ]
    },
    {
     "name": "stdout",
     "output_type": "stream",
     "text": [
      "{'Nombre': 'Juan', 'Nota 1': 4.0, 'Nota 2': 5.0, 'Nota 3': 5.0, 'promedio': 4.666666666666667, 'estado': 'Aprobado'}\n"
     ]
    }
   ],
   "source": [
    "def buscar_alumno(nombre, lista_alumnos):\n",
    "    for alumno in lista_alumnos:\n",
    "        if alumno['Nombre'] == nombre:\n",
    "            print(alumno)\n",
    "            \n",
    "nombre = input(\"Ingrese el nombre del o los alumnos a buscar: \")\n",
    "\n",
    "buscar_alumno(nombre, lista_alumnos)"
   ]
  },
  {
   "cell_type": "code",
   "execution_count": null,
   "metadata": {},
   "outputs": [],
   "source": []
  }
 ],
 "metadata": {
  "kernelspec": {
   "display_name": "Python 3",
   "language": "python",
   "name": "python3"
  },
  "language_info": {
   "codemirror_mode": {
    "name": "ipython",
    "version": 3
   },
   "file_extension": ".py",
   "mimetype": "text/x-python",
   "name": "python",
   "nbconvert_exporter": "python",
   "pygments_lexer": "ipython3",
   "version": "3.8.5"
  }
 },
 "nbformat": 4,
 "nbformat_minor": 4
}
