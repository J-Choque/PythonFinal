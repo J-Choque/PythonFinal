{
 "cells": [
  {
   "cell_type": "markdown",
   "metadata": {},
   "source": [
    "# PROBLEMAS DIVERSOS"
   ]
  },
  {
   "cell_type": "markdown",
   "metadata": {},
   "source": [
    "<h3>1. Ficheros</h3>\n",
    "Escribir una función que pida un número entero entre 1 y 10 y guarde en un fichero con el nombre tabla-n.txt la tabla de multiplicar de ese número, done n es el número introducido."
   ]
  },
  {
   "cell_type": "code",
   "execution_count": 8,
   "metadata": {},
   "outputs": [
    {
     "name": "stdin",
     "output_type": "stream",
     "text": [
      "Introduce un número entero del 1 al 10:  2\n"
     ]
    },
    {
     "name": "stdout",
     "output_type": "stream",
     "text": [
      "El archivo tabla-2.txt se creó en la ruta actual de forma satisfactoria\n"
     ]
    }
   ],
   "source": [
    "def tabla_n():\n",
    "    while True:\n",
    "        try:\n",
    "            n = int(input(\"Introduce un número entero del 1 al 10: \"))\n",
    "            if n >= 1 and n <= 10:\n",
    "                break\n",
    "            else:\n",
    "                print(\"Intente nuevamente, el número debe estar entre 1 y 10\")\n",
    "        except:\n",
    "            print(\"Introduce un número válido\")\n",
    "    \n",
    "    with open(f'./tabla-{n}.txt',mode='w') as f:\n",
    "        for i in range(0, 11):\n",
    "            f.write(f\"{n} x {i} = {n*i}\\n\")\n",
    "        print(f\"El archivo tabla-{n}.txt se creó en la ruta actual de forma satisfactoria\")\n",
    "        f.close\n",
    "    \n",
    "tabla_n()"
   ]
  },
  {
   "cell_type": "markdown",
   "metadata": {},
   "source": [
    "<h3>2.</h3>\n",
    "Escribir una función que pida un número entero entre 1 y 10, lea el fichero tabla-n.txt con la tabla de multiplicar de ese número, done n es el número introducido, y la muestre por pantalla. Si el fichero no existe debe mostrar un mensaje por pantalla informando de ello."
   ]
  },
  {
   "cell_type": "code",
   "execution_count": 9,
   "metadata": {},
   "outputs": [
    {
     "name": "stdin",
     "output_type": "stream",
     "text": [
      "Introduce un número entero del 1 al 10: 2\n"
     ]
    },
    {
     "name": "stdout",
     "output_type": "stream",
     "text": [
      "2 x 0 = 0\n",
      "\n",
      "2 x 1 = 2\n",
      "\n",
      "2 x 2 = 4\n",
      "\n",
      "2 x 3 = 6\n",
      "\n",
      "2 x 4 = 8\n",
      "\n",
      "2 x 5 = 10\n",
      "\n",
      "2 x 6 = 12\n",
      "\n",
      "2 x 7 = 14\n",
      "\n",
      "2 x 8 = 16\n",
      "\n",
      "2 x 9 = 18\n",
      "\n",
      "2 x 10 = 20\n",
      "\n"
     ]
    }
   ],
   "source": [
    "def ver_tabla():\n",
    "    while True:\n",
    "        try:\n",
    "            n = int(input(\"Introduce un número entero del 1 al 10:\"))\n",
    "            if n >= 1 and n <= 10:\n",
    "                break\n",
    "            else:\n",
    "                print(\"Intente nuevamente, el número debe estar entre 1 y 10\")\n",
    "        except:\n",
    "            print(\"Introduce un número válido\")\n",
    "    try:\n",
    "        with open(f'./tabla-{n}.txt',mode='r') as f:\n",
    "            texto = f.readlines()\n",
    "            for fila in texto:\n",
    "                print(fila)\n",
    "    except:\n",
    "        print(\"¡ERROR¡ No existe la tabla almacenada para ese número\")\n",
    "\n",
    "ver_tabla()"
   ]
  },
  {
   "cell_type": "code",
   "execution_count": 10,
   "metadata": {},
   "outputs": [
    {
     "name": "stdin",
     "output_type": "stream",
     "text": [
      "Introduce un número entero del 1 al 10: 10\n"
     ]
    },
    {
     "name": "stdout",
     "output_type": "stream",
     "text": [
      "¡ERROR¡ No existe la tabla almacenada para ese número\n"
     ]
    }
   ],
   "source": [
    "ver_tabla()"
   ]
  },
  {
   "cell_type": "code",
   "execution_count": null,
   "metadata": {},
   "outputs": [],
   "source": []
  },
  {
   "cell_type": "markdown",
   "metadata": {},
   "source": [
    "<h3>3.</h3>\n",
    "\n",
    "Escribir una función que pida dos números n y m entre 1 y 10, lea el fichero tabla-n.txt con la tabla de multiplicar de ese número, y muestre por pantalla la línea m del fichero. Si el fichero no existe debe mostrar un mensaje por pantalla informando de ello."
   ]
  },
  {
   "cell_type": "code",
   "execution_count": 12,
   "metadata": {},
   "outputs": [
    {
     "name": "stdin",
     "output_type": "stream",
     "text": [
      "Introduce el primer número entero del 1 al 10: 2\n",
      "Introduce el segundo número entero del 1 al 10: 6\n"
     ]
    },
    {
     "name": "stdout",
     "output_type": "stream",
     "text": [
      "2 x 6 = 12\n",
      "\n"
     ]
    }
   ],
   "source": [
    "def buscar_tabla():\n",
    "    while True:\n",
    "        try:\n",
    "            n = int(input(\"Introduce el primer número entero del 1 al 10:\"))\n",
    "            if n >= 1 and n <= 10:\n",
    "                while True:\n",
    "                    try:\n",
    "                        m = int(input(\"Introduce el segundo número entero del 1 al 10:\"))\n",
    "                        if m >= 1 and m <= 10:\n",
    "                            break\n",
    "                        else:\n",
    "                            print(\"Intente nuevamente, el número debe estar entre 1 y 10\")\n",
    "                    except:\n",
    "                        print(\"Introduce un número válido\")\n",
    "                break\n",
    "            else:\n",
    "                print(\"El número debe estar entre 1 y 10\")\n",
    "        except:\n",
    "            print(\"Introduce un número válido\")\n",
    "    \n",
    "    try:\n",
    "        with open(f'./tabla-{n}.txt',mode='r') as f:\n",
    "            texto = f.readlines()\n",
    "            for fila in texto:\n",
    "                if fila == f\"{n} x {m} = {n*m}\\n\":\n",
    "                    print(fila)\n",
    "    except:\n",
    "        print(\"Ese producto no está almacenado en ningún archivo de tabla\")\n",
    "\n",
    "buscar_tabla()"
   ]
  },
  {
   "cell_type": "markdown",
   "metadata": {},
   "source": [
    "<h3> Expresiones Regulares</h3>\n",
    "sda\n"
   ]
  },
  {
   "cell_type": "code",
   "execution_count": 1,
   "metadata": {},
   "outputs": [],
   "source": [
    "from modulo import datos\n",
    "import re"
   ]
  },
  {
   "cell_type": "code",
   "execution_count": 2,
   "metadata": {},
   "outputs": [],
   "source": [
    "path = './data/re/short_tweets.csv'"
   ]
  },
  {
   "cell_type": "markdown",
   "metadata": {},
   "source": [
    "<h3>1.</h3>\n",
    "\n",
    "Escriba una expresión regular que encuentre todas las coincidencias que sigan el siguiente patrón.\n",
    "\n",
    "Ej. <code>@robot3!</code>"
   ]
  },
  {
   "cell_type": "code",
   "execution_count": 3,
   "metadata": {},
   "outputs": [
    {
     "data": {
      "text/plain": [
       "'@robot9! @robot4& I have a good feeling that the show isgoing to be amazing! @robot9$ @robot7%'"
      ]
     },
     "execution_count": 3,
     "metadata": {},
     "output_type": "execute_result"
    }
   ],
   "source": [
    "# Cadena entrada\n",
    "s = '@robot9! @robot4& I have a good feeling that the show isgoing to be amazing! @robot9$ @robot7%'\n",
    "s"
   ]
  },
  {
   "cell_type": "code",
   "execution_count": null,
   "metadata": {},
   "outputs": [],
   "source": []
  },
  {
   "cell_type": "markdown",
   "metadata": {},
   "source": [
    "<h3>2.</h3>\n",
    "Escriba una expresión regular para cada caso: \n",
    "\n",
    "- todos los usuarios que sigan el siguente patron. <code>User_mentions:9</code>\n",
    "\n",
    "- encuentre los numero de likes: <code>likes: 5</code>\n",
    "\n",
    "- que permita encontrar el numero de retweets. <code>number of retweets: 4</code>"
   ]
  },
  {
   "cell_type": "code",
   "execution_count": 4,
   "metadata": {},
   "outputs": [
    {
     "data": {
      "text/plain": [
       "\"Unfortunately one of those moments wasn't a giant squid monster. User_mentions:2, likes: 9, number of retweets: 7\""
      ]
     },
     "execution_count": 4,
     "metadata": {},
     "output_type": "execute_result"
    }
   ],
   "source": [
    "# Cadena entrada\n",
    "s = \"Unfortunately one of those moments wasn't a giant squid monster. User_mentions:2, likes: 9, number of retweets: 7\"\n",
    "s"
   ]
  },
  {
   "cell_type": "code",
   "execution_count": null,
   "metadata": {},
   "outputs": [],
   "source": []
  },
  {
   "cell_type": "markdown",
   "metadata": {},
   "source": [
    "<h3>3.</h3>\n",
    "\n",
    "Escriba una expresión regular que encuente los nombres de archivos txt en la cadena:\n",
    "\n",
    "    - Nombre de archivo txt siempre inicia al principio de la cadena\n",
    "    - Siempre comienzan con una secuencia de 2 o 3 vocales mayúsculas o minúsculas (a e i o u).\n",
    "    - Ellos siempre terminan con el final del txt.\n",
    "\n"
   ]
  },
  {
   "cell_type": "code",
   "execution_count": 5,
   "metadata": {},
   "outputs": [],
   "source": [
    "analisis_sentimientos = datos.read_pandas(path,780,782)"
   ]
  },
  {
   "cell_type": "code",
   "execution_count": 6,
   "metadata": {},
   "outputs": [
    {
     "name": "stdout",
     "output_type": "stream",
     "text": [
      "AIshadowhunters.txt aaaaand back to my literature review. At least i have a friendly cup of coffee to keep me company\n",
      "ouMYTAXES.txt I am worried that I won't get my $900 even though I paid tax last year\n"
     ]
    }
   ],
   "source": [
    "#regex = r\"\"  # complete aqui\n",
    "for tweet in analisis_sentimientos:\n",
    "    print(tweet)\n",
    "    \n",
    "    # Encuentre todos los casos\n",
    "    #print(re.findall(regex, tweet))"
   ]
  },
  {
   "cell_type": "code",
   "execution_count": null,
   "metadata": {},
   "outputs": [],
   "source": []
  },
  {
   "cell_type": "markdown",
   "metadata": {},
   "source": [
    "<h3>4.</h3>\n",
    "\n",
    "Escriba una expresión regular que valide una lista de correos electrónicos\n",
    "- Primera parte:\n",
    "    - Caracteres en mayuscula y minúscula\n",
    "    - Números\n",
    "    - Caracteres especiales: !, #, %, &, *, $, .\n",
    "- Debe contener @\n",
    "- Dominio:\n",
    "    - Puede ser cualquier conjunto de caracteres\n",
    "    - Solo puede terminar con <code>.com</code>\n",
    "\n",
    "ENTRADA:\n",
    "\n",
    "- ['n.john.smith@gmail.com', '87victory@hotmail.com', '!#mary-=@msca.net']\n",
    "    \n",
    "SALIDA:\n",
    "\n",
    "- The email <code>n.john.smith@gmail.com</code> is a valid email\n",
    "- The email <code>87victory@hotmail.com</code> is a valid email\n",
    "- The email <code>!#mary-=@msca.net</code> is invalid\n"
   ]
  },
  {
   "cell_type": "code",
   "execution_count": 7,
   "metadata": {},
   "outputs": [
    {
     "name": "stdout",
     "output_type": "stream",
     "text": [
      "The email n.john.smith@gmail.com is a valid email\n",
      "The email 87victory@hotmail.com is a valid email\n",
      "The email !#mary-=@msca.net is a valid email\n"
     ]
    }
   ],
   "source": [
    "# Escriba una expresión regular para validar un correo\n",
    "regex = r\"\"\n",
    "\n",
    "emails = ['n.john.smith@gmail.com', '87victory@hotmail.com', '!#mary-=@msca.net']\n",
    "for example in emails:\n",
    "    # Match the regex to the string\n",
    "    if re.match(regex, example):\n",
    "        # Complete the format method to print out the result\n",
    "        print(\"The email {email_example} is a valid email\".format(email_example=example))\n",
    "    else:\n",
    "        print(\"The email {email_example} is invalid\".format(email_example=example))   "
   ]
  },
  {
   "cell_type": "code",
   "execution_count": null,
   "metadata": {},
   "outputs": [],
   "source": []
  }
 ],
 "metadata": {
  "kernelspec": {
   "display_name": "Python 3",
   "language": "python",
   "name": "python3"
  },
  "language_info": {
   "codemirror_mode": {
    "name": "ipython",
    "version": 3
   },
   "file_extension": ".py",
   "mimetype": "text/x-python",
   "name": "python",
   "nbconvert_exporter": "python",
   "pygments_lexer": "ipython3",
   "version": "3.8.5"
  }
 },
 "nbformat": 4,
 "nbformat_minor": 4
}
